{
 "cells": [
  {
   "cell_type": "markdown",
   "metadata": {},
   "source": [
    "# nn-basic-conv-compare\n",
    "### (topic: neural networks / machine learning)\n",
    "### https://github.com/yoshc\n",
    "---\n",
    "\n",
    "### Content:\n",
    "1. Building a **basic neural network** and a **convolutional neural network** for the MNIST dataset\n",
    "2. Comparing their accuracy\n",
    "3. Determining which images are **recognized by the _convolutional_ neural network, but not by the _basic neural network_**, and plotting them  \n",
    "---"
   ]
  },
  {
   "cell_type": "markdown",
   "metadata": {},
   "source": [
    "### Setting the hyperparameters of the neural networks"
   ]
  },
  {
   "cell_type": "code",
   "execution_count": 1,
   "metadata": {},
   "outputs": [],
   "source": [
    "# hyperparameters of the basic neural network\n",
    "\n",
    "# First hidden layer\n",
    "NN_BASIC_LAYER_1_NUMBER_NEURONS = 400\n",
    "NN_BASIC_LAYER_1_ACTIVATION = \"relu\" # or sigmoid?\n",
    "NN_BASIC_LAYER_1_DROPOUT = 0.2\n",
    "# Second hidden layer\n",
    "NN_BASIC_LAYER_2_NUMBER_NEURONS = 100\n",
    "NN_BASIC_LAYER_2_ACTIVATION = \"relu\" # or sigmoid?\n",
    "NN_BASIC_LAYER_2_DROPOUT = 0.2\n",
    "# Non layer specific hyperparameters\n",
    "NN_BASIC_BATCH_SIZE = 128\n",
    "NN_BASIC_EPOCHS = 10"
   ]
  },
  {
   "cell_type": "markdown",
   "metadata": {},
   "source": [
    "## Needed imports\n",
    "We need keras, numpy and matplotlib.\n",
    "I am using the TensorFlow backend in keras"
   ]
  },
  {
   "cell_type": "code",
   "execution_count": 2,
   "metadata": {},
   "outputs": [
    {
     "name": "stderr",
     "output_type": "stream",
     "text": [
      "/Users/josh/.virtualenvs/machinelearning/lib/python3.6/site-packages/h5py/__init__.py:36: FutureWarning: Conversion of the second argument of issubdtype from `float` to `np.floating` is deprecated. In future, it will be treated as `np.float64 == np.dtype(float).type`.\n",
      "  from ._conv import register_converters as _register_converters\n",
      "Using TensorFlow backend.\n"
     ]
    }
   ],
   "source": [
    "import keras\n",
    "import numpy as np\n",
    "import matplotlib.pyplot as plt\n",
    "\n",
    "from keras.models import Sequential\n",
    "from keras.layers.core import Dense, Dropout, Activation"
   ]
  },
  {
   "cell_type": "markdown",
   "metadata": {},
   "source": [
    "## 1. Building a basic neural network and a convolutional neural network for the MNIST dataset\n",
    "### 1.1 Loading and preparing the data\n",
    "#### 1.1.1 Loading MNIST dataset"
   ]
  },
  {
   "cell_type": "code",
   "execution_count": 3,
   "metadata": {},
   "outputs": [],
   "source": [
    "mnist = keras.datasets.mnist.load_data()"
   ]
  },
  {
   "cell_type": "markdown",
   "metadata": {},
   "source": [
    "#### 1.1.2 Splitting up the data"
   ]
  },
  {
   "cell_type": "code",
   "execution_count": 4,
   "metadata": {},
   "outputs": [],
   "source": [
    "(X_train, y_train), (X_test, y_test) = mnist"
   ]
  },
  {
   "cell_type": "markdown",
   "metadata": {},
   "source": [
    "X is the image data, y is the label data"
   ]
  },
  {
   "cell_type": "markdown",
   "metadata": {},
   "source": [
    "#### 1.1.3 Checking the shape and taking a peek into the data by visualizing it"
   ]
  },
  {
   "cell_type": "code",
   "execution_count": 5,
   "metadata": {},
   "outputs": [
    {
     "name": "stdout",
     "output_type": "stream",
     "text": [
      "train data shape=(60000, 28, 28) train labels shape=(60000,)\n",
      "test data shape=(10000, 28, 28) test labels shape=(10000,)\n",
      "This means we have have 60000 train images and 10000 test images\n"
     ]
    }
   ],
   "source": [
    "print(\"train data shape=\", X_train.shape, \" train labels shape=\", y_train.shape, sep=\"\")\n",
    "print(\"test data shape=\", X_test.shape, \" test labels shape=\", y_test.shape, sep=\"\")\n",
    "print(\"This means we have have\", X_train.shape[0], \"train images and\", X_test.shape[0], \"test images\")"
   ]
  },
  {
   "cell_type": "code",
   "execution_count": 6,
   "metadata": {},
   "outputs": [
    {
     "data": {
      "image/png": "[encoded data removed]",
      "text/plain": [
       "<Figure size 360x360 with 9 Axes>"
      ]
     },
     "metadata": {},
     "output_type": "display_data"
    },
    {
     "name": "stdout",
     "output_type": "stream",
     "text": [
      "Should be [5, 0, 4, 1, 9, 2, 1, 3, 1]\n"
     ]
    }
   ],
   "source": [
    "# Visualizing the first 9 images using matplotlib\n",
    "fig=plt.figure(figsize=(5, 5))\n",
    "columns, rows = 3,3\n",
    "for i in range(0, rows*columns):\n",
    "    img = X_train[i]\n",
    "    fig.add_subplot(rows, columns, i+1)\n",
    "    plt.imshow(img, cmap=\"gray\")\n",
    "plt.show()\n",
    "\n",
    "# Verifying it\n",
    "print(\"Should be\", [label for label in y_train[:columns*rows]])"
   ]
  },
  {
   "cell_type": "markdown",
   "metadata": {},
   "source": [
    "#### 1.1.4 Converting image data from [0; 255] to [0.0f, 1.0f]\n",
    "Our neural network uses float values between 0.0 and 1.0, but the dataset uses integer values between 0 and 255"
   ]
  },
  {
   "cell_type": "code",
   "execution_count": 7,
   "metadata": {},
   "outputs": [],
   "source": [
    "X_train = X_train.astype(\"float32\")\n",
    "X_test = X_test.astype(\"float32\")\n",
    "X_train /= 255\n",
    "X_test /= 255"
   ]
  },
  {
   "cell_type": "markdown",
   "metadata": {},
   "source": [
    "#### 1.1.5 Reshaping label data\n",
    "The label data looks like [5, 0, 4, 1, 9, ...], but it has to be categorical. For example the label \"5\" should be represented by a float ndarray filled with zeros, except for the index 5 should be 1.0  \n",
    "example: 5 -> [0.0, 0.0, 0.0, 0.0, 0.0, 1.0, 0.0, 0.0, 0.0, 0.0]  \n",
    "There is also a keras util function for that purpose but it's easy to write that function ourselves since it's trivial"
   ]
  },
  {
   "cell_type": "code",
   "execution_count": 8,
   "metadata": {},
   "outputs": [],
   "source": [
    "def to_categorical(arr):\n",
    "    target_shape = (len(arr), 10)\n",
    "    data = np.zeros(target_shape)\n",
    "    for i in range(len(arr)):\n",
    "        data[i, arr[i]] = 1.0\n",
    "    return data"
   ]
  },
  {
   "cell_type": "code",
   "execution_count": 9,
   "metadata": {},
   "outputs": [
    {
     "name": "stdout",
     "output_type": "stream",
     "text": [
      "[0. 0. 0. 0. 0. 1. 0. 0. 0. 0.]\n"
     ]
    }
   ],
   "source": [
    "y_train = to_categorical(y_train)\n",
    "y_test = to_categorical(y_test)\n",
    "# Verifying it\n",
    "print(y_train[0]) # should be [0. 0. 0. 0. 0. 1. 0. 0. 0. 0.] like in the example above"
   ]
  },
  {
   "cell_type": "markdown",
   "metadata": {},
   "source": [
    "#### 1.1.6 Reshaping data for basic neural network\n",
    "The neural network input should be 1-dimensional, whereas the convolutional network takes takes the data 2-dimensional as it is.  \n",
    "We basically want to reshape the input from (60000, 28, 28) to (60000, 784)"
   ]
  },
  {
   "cell_type": "code",
   "execution_count": 10,
   "metadata": {},
   "outputs": [],
   "source": [
    "pixels = X_train.shape[1] * X_train.shape[2] # mnist images are 28*28 pixels = 784 pixels"
   ]
  },
  {
   "cell_type": "code",
   "execution_count": 11,
   "metadata": {},
   "outputs": [],
   "source": [
    "X_train_2dim = X_train.reshape((X_train.shape[0], pixels))\n",
    "X_test_2dim = X_test.reshape((X_test.shape[0], pixels))"
   ]
  },
  {
   "cell_type": "code",
   "execution_count": 12,
   "metadata": {},
   "outputs": [
    {
     "name": "stdout",
     "output_type": "stream",
     "text": [
      "(60000, 784) (10000, 784)\n"
     ]
    }
   ],
   "source": [
    "print(X_train_2dim.shape, X_test_2dim.shape)"
   ]
  },
  {
   "cell_type": "markdown",
   "metadata": {},
   "source": [
    "Exactly what we wanted! The data is now prepared!"
   ]
  },
  {
   "cell_type": "markdown",
   "metadata": {},
   "source": [
    "### 1.2 Now the fun part: Building the neural networks"
   ]
  },
  {
   "cell_type": "markdown",
   "metadata": {},
   "source": [
    "We will be building two models: one for the _basic neural network_ and one for the _convolutional neural network_"
   ]
  },
  {
   "cell_type": "markdown",
   "metadata": {},
   "source": [
    "#### 1.2.1 Building the basic neural network model"
   ]
  },
  {
   "cell_type": "code",
   "execution_count": 13,
   "metadata": {},
   "outputs": [],
   "source": [
    "# First model: basic neural network\n",
    "model_basic = Sequential()\n",
    "\n",
    "# Layer 1\n",
    "model_basic.add(Dense(NN_BASIC_LAYER_1_NUMBER_NEURONS, input_shape=(pixels,)))\n",
    "# this is why we changed the input shape for the basic neural network ^\n",
    "# otherwise the shape would not be correct\n",
    "model_basic.add(Activation(NN_BASIC_LAYER_1_ACTIVATION))\n",
    "model_basic.add(Dropout(NN_BASIC_LAYER_1_DROPOUT))\n",
    "# Layer 2\n",
    "model_basic.add(Dense(NN_BASIC_LAYER_2_NUMBER_NEURONS, input_shape=(pixels,)))\n",
    "model_basic.add(Activation(NN_BASIC_LAYER_2_ACTIVATION))\n",
    "model_basic.add(Dropout(NN_BASIC_LAYER_2_DROPOUT))\n",
    "# Output Layer (of course needs 10 neurons because we have 10 different numbers (0-9))\n",
    "model_basic.add(Dense(10))\n",
    "model_basic.add(Activation(\"softmax\"))"
   ]
  },
  {
   "cell_type": "code",
   "execution_count": 23,
   "metadata": {},
   "outputs": [
    {
     "name": "stdout",
     "output_type": "stream",
     "text": [
      "_________________________________________________________________\n",
      "Layer (type)                 Output Shape              Param #   \n",
      "=================================================================\n",
      "dense_1 (Dense)              (None, 400)               314000    \n",
      "_________________________________________________________________\n",
      "activation_1 (Activation)    (None, 400)               0         \n",
      "_________________________________________________________________\n",
      "dropout_1 (Dropout)          (None, 400)               0         \n",
      "_________________________________________________________________\n",
      "dense_2 (Dense)              (None, 100)               40100     \n",
      "_________________________________________________________________\n",
      "activation_2 (Activation)    (None, 100)               0         \n",
      "_________________________________________________________________\n",
      "dropout_2 (Dropout)          (None, 100)               0         \n",
      "_________________________________________________________________\n",
      "dense_3 (Dense)              (None, 10)                1010      \n",
      "_________________________________________________________________\n",
      "activation_3 (Activation)    (None, 10)                0         \n",
      "=================================================================\n",
      "Total params: 355,110\n",
      "Trainable params: 355,110\n",
      "Non-trainable params: 0\n",
      "_________________________________________________________________\n",
      "None\n"
     ]
    }
   ],
   "source": [
    "# Print a summary of the basic neural network\n",
    "print(model_basic.summary())"
   ]
  },
  {
   "cell_type": "markdown",
   "metadata": {},
   "source": [
    "#### 1.2.2 Building the convolutional neural network model"
   ]
  },
  {
   "cell_type": "code",
   "execution_count": 14,
   "metadata": {},
   "outputs": [],
   "source": [
    "# TODO conv"
   ]
  },
  {
   "cell_type": "code",
   "execution_count": null,
   "metadata": {},
   "outputs": [],
   "source": [
    "# Print a summary of the conv neural network\n",
    "# print(model_conv.summary())"
   ]
  },
  {
   "cell_type": "markdown",
   "metadata": {},
   "source": [
    "#### 1.2.3 Compile both models"
   ]
  },
  {
   "cell_type": "code",
   "execution_count": 15,
   "metadata": {},
   "outputs": [],
   "source": [
    "model_basic.compile(loss=\"categorical_crossentropy\", optimizer=\"adam\")\n",
    "# TODO conv"
   ]
  },
  {
   "cell_type": "markdown",
   "metadata": {},
   "source": [
    "#### 1.2.4 Training the model to fit the data"
   ]
  },
  {
   "cell_type": "markdown",
   "metadata": {},
   "source": [
    "_This is where the machine learning process takes place_"
   ]
  },
  {
   "cell_type": "code",
   "execution_count": 16,
   "metadata": {},
   "outputs": [
    {
     "name": "stdout",
     "output_type": "stream",
     "text": [
      "Epoch 1/10\n",
      "60000/60000 [==============================] - 3s 53us/step - loss: 0.3128\n",
      "Epoch 2/10\n",
      "60000/60000 [==============================] - 3s 48us/step - loss: 0.1247\n",
      "Epoch 3/10\n",
      "60000/60000 [==============================] - 3s 48us/step - loss: 0.0888\n",
      "Epoch 4/10\n",
      "60000/60000 [==============================] - 3s 48us/step - loss: 0.0706\n",
      "Epoch 5/10\n",
      "60000/60000 [==============================] - 3s 50us/step - loss: 0.0594\n",
      "Epoch 6/10\n",
      "60000/60000 [==============================] - 3s 48us/step - loss: 0.0485\n",
      "Epoch 7/10\n",
      "60000/60000 [==============================] - 3s 47us/step - loss: 0.0444\n",
      "Epoch 8/10\n",
      "60000/60000 [==============================] - 3s 47us/step - loss: 0.0390\n",
      "Epoch 9/10\n",
      "60000/60000 [==============================] - 3s 50us/step - loss: 0.0350\n",
      "Epoch 10/10\n",
      "60000/60000 [==============================] - 3s 48us/step - loss: 0.0316\n"
     ]
    },
    {
     "data": {
      "text/plain": [
       "<keras.callbacks.History at 0x123848438>"
      ]
     },
     "execution_count": 16,
     "metadata": {},
     "output_type": "execute_result"
    }
   ],
   "source": [
    "model_basic.fit(X_train_2dim, y_train,\n",
    "          batch_size=NN_BASIC_BATCH_SIZE, epochs=NN_BASIC_EPOCHS,\n",
    "          verbose=1)"
   ]
  },
  {
   "cell_type": "markdown",
   "metadata": {},
   "source": [
    "#### 1.2.5 Evaluating the accuracy of each neural network"
   ]
  },
  {
   "cell_type": "code",
   "execution_count": 25,
   "metadata": {},
   "outputs": [
    {
     "name": "stdout",
     "output_type": "stream",
     "text": [
      "10000/10000 [==============================] - 0s 42us/step\n",
      "Accuracy of the basic neural network: 94.35161199111434 %\n"
     ]
    }
   ],
   "source": [
    "score_basic = model_basic.evaluate(X_test_2dim, y_test)\n",
    "# TODO conv\n",
    "accuracy_basic = 1.0 - score\n",
    "print(\"Accuracy of the basic neural network:\", (accuracy_basic*100), \"%\")\n",
    "#print(\"Accuracy of the convolutional neural network:\", accuracy_conv)"
   ]
  },
  {
   "cell_type": "code",
   "execution_count": 30,
   "metadata": {},
   "outputs": [],
   "source": [
    "pred_basic = model_basic.predict(X_test_2dim)\n",
    "# TODO conv"
   ]
  },
  {
   "cell_type": "markdown",
   "metadata": {},
   "source": [
    "We need a function to convert the prediction from a array of propabilities to an int value. This integer represents the number the neural network guesses"
   ]
  },
  {
   "cell_type": "code",
   "execution_count": 33,
   "metadata": {},
   "outputs": [],
   "source": [
    "def pred_to_int(pred_result):\n",
    "    curr_max = 0.0\n",
    "    max_index = -1\n",
    "    for i, x in enumerate(pred_result):\n",
    "        if(x > curr_max):\n",
    "            max_index = i\n",
    "            curr_max = x\n",
    "    return max_index"
   ]
  },
  {
   "cell_type": "code",
   "execution_count": 66,
   "metadata": {},
   "outputs": [
    {
     "data": {
      "image/png": "[encoded data removed]",
      "text/plain": [
       "<Figure size 864x864 with 36 Axes>"
      ]
     },
     "metadata": {},
     "output_type": "display_data"
    },
    {
     "name": "stdout",
     "output_type": "stream",
     "text": [
      "Wrong guesses: 165 out of 10000\n"
     ]
    }
   ],
   "source": [
    "wrong_indices = []\n",
    "for i in range(len(y_test)):\n",
    "    guess = pred_to_int(pred_basic[i])\n",
    "    confidence = pred_basic[i, guess]\n",
    "    actual = pred_to_int(y_test[i])\n",
    "    if guess != actual:\n",
    "        #print(\"The guess of image\", i, \" is wrong!\")\n",
    "        #print(\"The guess is\", guess, \"but it actually is\", actual, \"(confidence=\", confidence, \")\")\n",
    "        wrong_indices.append(i)\n",
    "\n",
    "fig =plt.figure(figsize=(12, 12))\n",
    "\n",
    "columns, rows = 6, 6\n",
    "for i in range(0, len(wrong_indices)):\n",
    "    index = wrong_indices[i]\n",
    "    if i > columns*rows-1:\n",
    "        break\n",
    "    img = X_train[index]\n",
    "    subplot = fig.add_subplot(rows, columns, i+1)\n",
    "    subplot.axis(\"off\")\n",
    "    #subplot.gca().axes.get_yaxis().set_visible(False)\n",
    "    plt.title(\"Guess: \" + str(pred_to_int(pred_basic[index])))\n",
    "    plt.imshow(img, cmap=\"gray\")\n",
    "plt.show()\n",
    "print(\"Wrong guesses:\", len(wrong_indices), \"out of\", len(X_test))"
   ]
  },
  {
   "cell_type": "code",
   "execution_count": null,
   "metadata": {},
   "outputs": [],
   "source": []
  }
 ],
 "metadata": {
  "kernelspec": {
   "display_name": "Python 3",
   "language": "python",
   "name": "python3"
  },
  "language_info": {
   "codemirror_mode": {
    "name": "ipython",
    "version": 3
   },
   "file_extension": ".py",
   "mimetype": "text/x-python",
   "name": "python",
   "nbconvert_exporter": "python",
   "pygments_lexer": "ipython3",
   "version": "3.6.4"
  }
 },
 "nbformat": 4,
 "nbformat_minor": 2
}
